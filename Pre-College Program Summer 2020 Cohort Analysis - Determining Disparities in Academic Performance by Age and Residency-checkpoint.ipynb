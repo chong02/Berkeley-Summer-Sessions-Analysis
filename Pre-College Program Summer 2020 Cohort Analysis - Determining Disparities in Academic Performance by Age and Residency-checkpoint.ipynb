{
 "cells": [
  {
   "cell_type": "code",
   "execution_count": 2,
   "metadata": {},
   "outputs": [],
   "source": [
    "# Run This Cell!\n",
    "from datascience import *\n",
    "import numpy as np\n",
    "import matplotlib\n",
    "%matplotlib inline\n",
    "import matplotlib.pyplot as plots\n",
    "plots.style.use('fivethirtyeight')\n",
    "\n",
    "import warnings\n",
    "warnings.simplefilter('ignore', FutureWarning)\n",
    "\n",
    "from ipywidgets import interact, interactive, fixed, interact_manual\n",
    "import ipywidgets as widgets"
   ]
  },
  {
   "cell_type": "markdown",
   "metadata": {},
   "source": [
    "#### *Raw Data*\n",
    "Below is the raw roster data. Any personally-identifiable information (i.e. SID, name, email address, etc.) have been removed from the original dataset to ensure student privacy. This data is used for all analyses included in this report--with each row representing one student."
   ]
  },
  {
   "cell_type": "code",
   "execution_count": 13,
   "metadata": {},
   "outputs": [
    {
     "data": {
      "text/html": [
       "<table border=\"1\" class=\"dataframe\">\n",
       "    <thead>\n",
       "        <tr>\n",
       "            <th>Age as of 6/21/20</th> <th>Sex</th> <th>Gender Identity</th> <th>Dom/Intl</th> <th>Visa Type</th> <th>Country of Citizenship</th> <th>Region/State of Permanent Address</th> <th>How did you hear?</th> <th>How did you hear - Other</th> <th>High School City</th> <th>High School Region/State</th> <th>High School Country</th> <th>Session</th> <th>Subject</th> <th>Catalog</th> <th>Descr</th> <th>Unit Taken</th> <th>Status</th> <th>Grade</th> <th>Session II</th> <th>Subject II</th> <th>Catalog II</th> <th>Descr II</th> <th>Unit Taken II</th> <th>Status II</th> <th>Grade II</th> <th>Session III</th> <th>Subject III</th> <th>Catalog III</th> <th>Descr III</th> <th>Unit Taken III</th> <th>Status III</th> <th>Grade III</th>\n",
       "        </tr>\n",
       "    </thead>\n",
       "    <tbody>\n",
       "        <tr>\n",
       "            <td>16               </td> <td>F   </td> <td>Female-Identified</td> <td>Domestic                     </td> <td>U.S. Citizen  </td> <td>nan                   </td> <td>Sharjah                          </td> <td>Internet (Google search, Berkeley Academic Guide, Berkel ...</td> <td>nan                     </td> <td>Sharjah         </td> <td>Sharjah                 </td> <td>United Arab Emirates</td> <td>6W2    </td> <td>AFRICAM</td> <td>125AC  </td> <td>HIST MOD CIV RT MOV</td> <td>3         </td> <td>E     </td> <td>A    </td> <td>nan       </td> <td>nan       </td> <td>nan       </td> <td>nan                </td> <td>nan          </td> <td>nan      </td> <td>nan     </td> <td>nan        </td> <td>nan        </td> <td>nan        </td> <td>nan      </td> <td>nan           </td> <td>nan       </td> <td>nan      </td>\n",
       "        </tr>\n",
       "        <tr>\n",
       "            <td>16               </td> <td>M   </td> <td>Male-Identified  </td> <td>Domestic                     </td> <td>U.S. Citizen  </td> <td>nan                   </td> <td>CA                               </td> <td>Internet (Google search, Berkeley Academic Guide, Berkel ...</td> <td>nan                     </td> <td>San Ramon       </td> <td>CA                      </td> <td>United States       </td> <td>6W2    </td> <td>AFRICAM</td> <td>125AC  </td> <td>HIST MOD CIV RT MOV</td> <td>3         </td> <td>E     </td> <td>A+   </td> <td>8W        </td> <td>ENVECON   </td> <td>C151      </td> <td>ECONOMIC DEVELOP   </td> <td>4            </td> <td>E        </td> <td>A       </td> <td>nan        </td> <td>nan        </td> <td>nan        </td> <td>nan      </td> <td>nan           </td> <td>nan       </td> <td>nan      </td>\n",
       "        </tr>\n",
       "        <tr>\n",
       "            <td>17               </td> <td>F   </td> <td>Female-Identified</td> <td>Domestic                     </td> <td>U.S. Citizen  </td> <td>nan                   </td> <td>CA                               </td> <td>Adviser/Instructor                                          </td> <td>nan                     </td> <td>San Francisco   </td> <td>CA                      </td> <td>United States       </td> <td>8W     </td> <td>AFRICAM</td> <td>W111   </td> <td>RACE, CLASS & GEN  </td> <td>3         </td> <td>E     </td> <td>B+   </td> <td>nan       </td> <td>nan       </td> <td>nan       </td> <td>nan                </td> <td>nan          </td> <td>nan      </td> <td>nan     </td> <td>nan        </td> <td>nan        </td> <td>nan        </td> <td>nan      </td> <td>nan           </td> <td>nan       </td> <td>nan      </td>\n",
       "        </tr>\n",
       "        <tr>\n",
       "            <td>17               </td> <td>M   </td> <td>Male-Identified  </td> <td>International No Visa/Housing</td> <td>Non-US Citizen</td> <td>China                 </td> <td>Valencian Community              </td> <td>Adviser/Instructor                                          </td> <td>nan                     </td> <td>Benitachell     </td> <td>Valencian Community     </td> <td>Spain               </td> <td>6W2    </td> <td>ANTHRO </td> <td>3AC    </td> <td>INTRO SOC/CULT AC  </td> <td>4         </td> <td>E     </td> <td>F    </td> <td>nan       </td> <td>nan       </td> <td>nan       </td> <td>nan                </td> <td>nan          </td> <td>nan      </td> <td>nan     </td> <td>nan        </td> <td>nan        </td> <td>nan        </td> <td>nan      </td> <td>nan           </td> <td>nan       </td> <td>nan      </td>\n",
       "        </tr>\n",
       "        <tr>\n",
       "            <td>16               </td> <td>nan </td> <td>Male-Identified  </td> <td>Domestic                     </td> <td>U.S. Citizen  </td> <td>nan                   </td> <td>CA                               </td> <td>Internet (Google search, Berkeley Academic Guide, Berkel ...</td> <td>nan                     </td> <td>Berkeley        </td> <td>CA                      </td> <td>United States       </td> <td>6W2    </td> <td>ANTHRO </td> <td>3AC    </td> <td>INTRO SOC/CULT AC  </td> <td>4         </td> <td>E     </td> <td>A    </td> <td>nan       </td> <td>nan       </td> <td>nan       </td> <td>nan                </td> <td>nan          </td> <td>nan      </td> <td>nan     </td> <td>nan        </td> <td>nan        </td> <td>nan        </td> <td>nan      </td> <td>nan           </td> <td>nan       </td> <td>nan      </td>\n",
       "        </tr>\n",
       "        <tr>\n",
       "            <td>16               </td> <td>F   </td> <td>Female-Identified</td> <td>Domestic                     </td> <td>U.S. Citizen  </td> <td>nan                   </td> <td>CA                               </td> <td>Internet (Google search, Berkeley Academic Guide, Berkel ...</td> <td>nan                     </td> <td>San Francisco   </td> <td>CA                      </td> <td>United States       </td> <td>6W2    </td> <td>ART    </td> <td>21     </td> <td>DIGITAL PHOTO: FDNS</td> <td>4         </td> <td>E     </td> <td>A    </td> <td>nan       </td> <td>nan       </td> <td>nan       </td> <td>nan                </td> <td>nan          </td> <td>nan      </td> <td>nan     </td> <td>nan        </td> <td>nan        </td> <td>nan        </td> <td>nan      </td> <td>nan           </td> <td>nan       </td> <td>nan      </td>\n",
       "        </tr>\n",
       "        <tr>\n",
       "            <td>15               </td> <td>M   </td> <td>Male-Identified  </td> <td>Domestic                     </td> <td>Non-US Citizen</td> <td>China                 </td> <td>CA                               </td> <td>Internet (Google search, Berkeley Academic Guide, Berkel ...</td> <td>nan                     </td> <td>San Diego       </td> <td>CA                      </td> <td>United States       </td> <td>6W2    </td> <td>ART    </td> <td>21     </td> <td>DIGITAL PHOTO: FDNS</td> <td>4         </td> <td>E     </td> <td>A-   </td> <td>8W        </td> <td>STAT      </td> <td>W21       </td> <td>INTRO PROB STAT BUS</td> <td>4            </td> <td>E        </td> <td>B       </td> <td>nan        </td> <td>nan        </td> <td>nan        </td> <td>nan      </td> <td>nan           </td> <td>nan       </td> <td>nan      </td>\n",
       "        </tr>\n",
       "        <tr>\n",
       "            <td>17               </td> <td>M   </td> <td>Male-Identified  </td> <td>Domestic                     </td> <td>U.S. Citizen  </td> <td>nan                   </td> <td>CA                               </td> <td>Adviser/Instructor                                          </td> <td>nan                     </td> <td>Pasadena        </td> <td>CA                      </td> <td>United States       </td> <td>8W     </td> <td>ASAMST </td> <td>W20AC  </td> <td>AS AM COMM RACE REL</td> <td>4         </td> <td>E     </td> <td>A    </td> <td>8W        </td> <td>MATH      </td> <td>W53       </td> <td>MULTIVAR CALCULUS  </td> <td>4            </td> <td>E        </td> <td>A-      </td> <td>nan        </td> <td>nan        </td> <td>nan        </td> <td>nan      </td> <td>nan           </td> <td>nan       </td> <td>nan      </td>\n",
       "        </tr>\n",
       "        <tr>\n",
       "            <td>16               </td> <td>M   </td> <td>Male-Identified  </td> <td>Domestic                     </td> <td>U.S. Citizen  </td> <td>nan                   </td> <td>CA                               </td> <td>Internet (Google search, Berkeley Academic Guide, Berkel ...</td> <td>nan                     </td> <td>Los Angeles     </td> <td>CA                      </td> <td>United States       </td> <td>8W     </td> <td>ASAMST </td> <td>W20AC  </td> <td>AS AM COMM RACE REL</td> <td>4         </td> <td>E     </td> <td>A    </td> <td>nan       </td> <td>nan       </td> <td>nan       </td> <td>nan                </td> <td>nan          </td> <td>nan      </td> <td>nan     </td> <td>nan        </td> <td>nan        </td> <td>nan        </td> <td>nan      </td> <td>nan           </td> <td>nan       </td> <td>nan      </td>\n",
       "        </tr>\n",
       "        <tr>\n",
       "            <td>17               </td> <td>M   </td> <td>Male-Identified  </td> <td>Domestic                     </td> <td>U.S. Citizen  </td> <td>nan                   </td> <td>CA                               </td> <td>Internet (Google search, Berkeley Academic Guide, Berkel ...</td> <td>nan                     </td> <td>Berkeley        </td> <td>CA                      </td> <td>United States       </td> <td>8W     </td> <td>ASAMST </td> <td>W20AC  </td> <td>AS AM COMM RACE REL</td> <td>4         </td> <td>E     </td> <td>P    </td> <td>nan       </td> <td>nan       </td> <td>nan       </td> <td>nan                </td> <td>nan          </td> <td>nan      </td> <td>nan     </td> <td>nan        </td> <td>nan        </td> <td>nan        </td> <td>nan      </td> <td>nan           </td> <td>nan       </td> <td>nan      </td>\n",
       "        </tr>\n",
       "    </tbody>\n",
       "</table>\n",
       "<p>... (564 rows omitted)</p>"
      ],
      "text/plain": [
       "Age as of 6/21/20 | Sex  | Gender Identity   | Dom/Intl                      | Visa Type      | Country of Citizenship | Region/State of Permanent Address | How did you hear?                                            | How did you hear - Other | High School City | High School Region/State | High School Country  | Session | Subject | Catalog | Descr               | Unit Taken | Status | Grade | Session II | Subject II | Catalog II | Descr II            | Unit Taken II | Status II | Grade II | Session III | Subject III | Catalog III | Descr III | Unit Taken III | Status III | Grade III\n",
       "16                | F    | Female-Identified | Domestic                      | U.S. Citizen   | nan                    | Sharjah                           | Internet (Google search, Berkeley Academic Guide, Berkel ... | nan                      | Sharjah          | Sharjah                  | United Arab Emirates | 6W2     | AFRICAM | 125AC   | HIST MOD CIV RT MOV | 3          | E      | A     | nan        | nan        | nan        | nan                 | nan           | nan       | nan      | nan         | nan         | nan         | nan       | nan            | nan        | nan\n",
       "16                | M    | Male-Identified   | Domestic                      | U.S. Citizen   | nan                    | CA                                | Internet (Google search, Berkeley Academic Guide, Berkel ... | nan                      | San Ramon        | CA                       | United States        | 6W2     | AFRICAM | 125AC   | HIST MOD CIV RT MOV | 3          | E      | A+    | 8W         | ENVECON    | C151       | ECONOMIC DEVELOP    | 4             | E         | A        | nan         | nan         | nan         | nan       | nan            | nan        | nan\n",
       "17                | F    | Female-Identified | Domestic                      | U.S. Citizen   | nan                    | CA                                | Adviser/Instructor                                           | nan                      | San Francisco    | CA                       | United States        | 8W      | AFRICAM | W111    | RACE, CLASS & GEN   | 3          | E      | B+    | nan        | nan        | nan        | nan                 | nan           | nan       | nan      | nan         | nan         | nan         | nan       | nan            | nan        | nan\n",
       "17                | M    | Male-Identified   | International No Visa/Housing | Non-US Citizen | China                  | Valencian Community               | Adviser/Instructor                                           | nan                      | Benitachell      | Valencian Community      | Spain                | 6W2     | ANTHRO  | 3AC     | INTRO SOC/CULT AC   | 4          | E      | F     | nan        | nan        | nan        | nan                 | nan           | nan       | nan      | nan         | nan         | nan         | nan       | nan            | nan        | nan\n",
       "16                | nan  | Male-Identified   | Domestic                      | U.S. Citizen   | nan                    | CA                                | Internet (Google search, Berkeley Academic Guide, Berkel ... | nan                      | Berkeley         | CA                       | United States        | 6W2     | ANTHRO  | 3AC     | INTRO SOC/CULT AC   | 4          | E      | A     | nan        | nan        | nan        | nan                 | nan           | nan       | nan      | nan         | nan         | nan         | nan       | nan            | nan        | nan\n",
       "16                | F    | Female-Identified | Domestic                      | U.S. Citizen   | nan                    | CA                                | Internet (Google search, Berkeley Academic Guide, Berkel ... | nan                      | San Francisco    | CA                       | United States        | 6W2     | ART     | 21      | DIGITAL PHOTO: FDNS | 4          | E      | A     | nan        | nan        | nan        | nan                 | nan           | nan       | nan      | nan         | nan         | nan         | nan       | nan            | nan        | nan\n",
       "15                | M    | Male-Identified   | Domestic                      | Non-US Citizen | China                  | CA                                | Internet (Google search, Berkeley Academic Guide, Berkel ... | nan                      | San Diego        | CA                       | United States        | 6W2     | ART     | 21      | DIGITAL PHOTO: FDNS | 4          | E      | A-    | 8W         | STAT       | W21        | INTRO PROB STAT BUS | 4             | E         | B        | nan         | nan         | nan         | nan       | nan            | nan        | nan\n",
       "17                | M    | Male-Identified   | Domestic                      | U.S. Citizen   | nan                    | CA                                | Adviser/Instructor                                           | nan                      | Pasadena         | CA                       | United States        | 8W      | ASAMST  | W20AC   | AS AM COMM RACE REL | 4          | E      | A     | 8W         | MATH       | W53        | MULTIVAR CALCULUS   | 4             | E         | A-       | nan         | nan         | nan         | nan       | nan            | nan        | nan\n",
       "16                | M    | Male-Identified   | Domestic                      | U.S. Citizen   | nan                    | CA                                | Internet (Google search, Berkeley Academic Guide, Berkel ... | nan                      | Los Angeles      | CA                       | United States        | 8W      | ASAMST  | W20AC   | AS AM COMM RACE REL | 4          | E      | A     | nan        | nan        | nan        | nan                 | nan           | nan       | nan      | nan         | nan         | nan         | nan       | nan            | nan        | nan\n",
       "17                | M    | Male-Identified   | Domestic                      | U.S. Citizen   | nan                    | CA                                | Internet (Google search, Berkeley Academic Guide, Berkel ... | nan                      | Berkeley         | CA                       | United States        | 8W      | ASAMST  | W20AC   | AS AM COMM RACE REL | 4          | E      | P     | nan        | nan        | nan        | nan                 | nan           | nan       | nan      | nan         | nan         | nan         | nan       | nan            | nan        | nan\n",
       "... (564 rows omitted)"
      ]
     },
     "execution_count": 13,
     "metadata": {},
     "output_type": "execute_result"
    }
   ],
   "source": [
    "roster = Table().read_table('2020 Roster.csv').drop(0, 1, 2, 3, 13, 17)\n",
    "roster"
   ]
  },
  {
   "cell_type": "markdown",
   "metadata": {},
   "source": [
    "# Introduction"
   ]
  },
  {
   "cell_type": "markdown",
   "metadata": {},
   "source": [
    "This analysis of the UC Berkeley Pre-College Scholars Program 2020 looks at differences in academic performance. This analysis  focuses primarily on age (16 vs. 17 year old students) and residency (in-state students vs. international and out-of-state students). For the purposes of this analysis, academic performance was defined as GPA Points. To calculate a student's GPA Points, take the numerical value corresponding to that student's letter grade (see https://registrar.berkeley.edu/faculty-staff/grading/grading-policies-reports/ for the official values) and multiply it by the number of units that particular course was. Any student who earned a P, NP, or I in the course or whose grade was not given were excluded from the study. Similarly, any students who took multiple courses were excluded from the study.\n",
    "\n",
    "#### *Breakdown of Students*\n",
    "In the Summer 2020 cycle, there were a total of 574 students who completed the program. A grade distribution is included below:"
   ]
  },
  {
   "cell_type": "code",
   "execution_count": 4,
   "metadata": {},
   "outputs": [
    {
     "data": {
      "text/html": [
       "<table border=\"1\" class=\"dataframe\">\n",
       "    <thead>\n",
       "        <tr>\n",
       "            <th>Grade</th> <th>count</th>\n",
       "        </tr>\n",
       "    </thead>\n",
       "    <tbody>\n",
       "        <tr>\n",
       "            <td>A    </td> <td>170  </td>\n",
       "        </tr>\n",
       "        <tr>\n",
       "            <td>A+   </td> <td>61   </td>\n",
       "        </tr>\n",
       "        <tr>\n",
       "            <td>A-   </td> <td>86   </td>\n",
       "        </tr>\n",
       "        <tr>\n",
       "            <td>B    </td> <td>43   </td>\n",
       "        </tr>\n",
       "        <tr>\n",
       "            <td>B+   </td> <td>50   </td>\n",
       "        </tr>\n",
       "        <tr>\n",
       "            <td>B-   </td> <td>12   </td>\n",
       "        </tr>\n",
       "        <tr>\n",
       "            <td>C    </td> <td>9    </td>\n",
       "        </tr>\n",
       "        <tr>\n",
       "            <td>C+   </td> <td>8    </td>\n",
       "        </tr>\n",
       "        <tr>\n",
       "            <td>C-   </td> <td>7    </td>\n",
       "        </tr>\n",
       "        <tr>\n",
       "            <td>D    </td> <td>2    </td>\n",
       "        </tr>\n",
       "        <tr>\n",
       "            <td>D+   </td> <td>1    </td>\n",
       "        </tr>\n",
       "        <tr>\n",
       "            <td>D-   </td> <td>2    </td>\n",
       "        </tr>\n",
       "        <tr>\n",
       "            <td>F    </td> <td>34   </td>\n",
       "        </tr>\n",
       "        <tr>\n",
       "            <td>I    </td> <td>4    </td>\n",
       "        </tr>\n",
       "        <tr>\n",
       "            <td>NP   </td> <td>14   </td>\n",
       "        </tr>\n",
       "        <tr>\n",
       "            <td>P    </td> <td>61   </td>\n",
       "        </tr>\n",
       "        <tr>\n",
       "            <td>nan  </td> <td>10   </td>\n",
       "        </tr>\n",
       "    </tbody>\n",
       "</table>"
      ],
      "text/plain": [
       "<IPython.core.display.HTML object>"
      ]
     },
     "metadata": {},
     "output_type": "display_data"
    }
   ],
   "source": [
    "roster.group('Grade').show(20)"
   ]
  },
  {
   "cell_type": "markdown",
   "metadata": {},
   "source": [
    "#### *Determining Whether Age Factors Into Academic Performance*\n",
    "From the analysis, it was determined that there is no statistically-significant association between age and academic performance (17 year olds will generally perform similarly to 16 year olds). While the experimental data shows a negative association between age and academic performance, an A/B Test showed that there was no statistically-significant relationship between age and academic performance. Below is a breakdown of students by age:"
   ]
  },
  {
   "cell_type": "code",
   "execution_count": 5,
   "metadata": {},
   "outputs": [
    {
     "data": {
      "text/html": [
       "<table border=\"1\" class=\"dataframe\">\n",
       "    <thead>\n",
       "        <tr>\n",
       "            <th>Age</th> <th>count</th>\n",
       "        </tr>\n",
       "    </thead>\n",
       "    <tbody>\n",
       "        <tr>\n",
       "            <td>16  </td> <td>260  </td>\n",
       "        </tr>\n",
       "        <tr>\n",
       "            <td>17  </td> <td>279  </td>\n",
       "        </tr>\n",
       "    </tbody>\n",
       "</table>"
      ],
      "text/plain": [
       "Age  | count\n",
       "16   | 260\n",
       "17   | 279"
      ]
     },
     "execution_count": 5,
     "metadata": {},
     "output_type": "execute_result"
    }
   ],
   "source": [
    "roster.group('Age as of 6/21/20').relabel('Age as of 6/21/20', 'Age').where('Age', are.between(16, 17.1))"
   ]
  },
  {
   "cell_type": "markdown",
   "metadata": {},
   "source": [
    "#### *Determining Whether Residency Factors Into Academic Performance*\n",
    "From the analysis, it was determined that there is a *strong* positive association between residence in CA and academic performance (CA students generally performed better than out-of-state/international students). This result is not necessarily surprising, but it is something worth considering--especially considering the strength of the association. Below is a breakdown of students by residency:"
   ]
  },
  {
   "cell_type": "code",
   "execution_count": 6,
   "metadata": {},
   "outputs": [
    {
     "data": {
      "text/html": [
       "<table border=\"1\" class=\"dataframe\">\n",
       "    <thead>\n",
       "        <tr>\n",
       "            <th>In-State</th> <th>count</th>\n",
       "        </tr>\n",
       "    </thead>\n",
       "    <tbody>\n",
       "        <tr>\n",
       "            <td>False   </td> <td>142  </td>\n",
       "        </tr>\n",
       "        <tr>\n",
       "            <td>True    </td> <td>432  </td>\n",
       "        </tr>\n",
       "    </tbody>\n",
       "</table>"
      ],
      "text/plain": [
       "In-State | count\n",
       "False    | 142\n",
       "True     | 432"
      ]
     },
     "execution_count": 6,
     "metadata": {},
     "output_type": "execute_result"
    }
   ],
   "source": [
    "Table().with_column('In-State', roster.select('Region/State of Permanent Address').column(0) == 'CA').group('In-State')"
   ]
  },
  {
   "cell_type": "code",
   "execution_count": 7,
   "metadata": {},
   "outputs": [],
   "source": [
    "# This function converts student's letter grades to the corresponding numerical value\n",
    "def grade_to_GPA(grade):\n",
    "    '''Converts letter grade to GPA'''\n",
    "    if grade == 'A' :\n",
    "        return 4\n",
    "    elif grade == 'A-' :\n",
    "        return 3.7\n",
    "    elif grade == 'B+' :\n",
    "        return 3.3\n",
    "    elif grade == 'B' :\n",
    "        return 3\n",
    "    elif grade == 'B-' :\n",
    "        return 2.7\n",
    "    elif grade == 'C+' :\n",
    "        return 2.3\n",
    "    elif grade == 'C' :\n",
    "        return 2\n",
    "    elif grade == 'C-' :\n",
    "        return 1.7\n",
    "    elif grade == 'D+' :\n",
    "        return 1.3\n",
    "    elif grade == 'D' :\n",
    "        return 1\n",
    "    elif grade == 'D-' :\n",
    "        return 0.7\n",
    "    elif grade == 'F' :\n",
    "        return 0\n",
    "    else :\n",
    "        return 0-1"
   ]
  },
  {
   "cell_type": "markdown",
   "metadata": {},
   "source": [
    "# Procedure and Methods"
   ]
  },
  {
   "cell_type": "markdown",
   "metadata": {},
   "source": [
    "#### *Procedure*\n",
    "While both analyses generally follow the same procedure, before either can be conducted, GPA Points first need to be evaluated. To convert the grades earned in the original Roster dataset, the function grade_to_GPA was defined to take a student's grade and convert it to its corresponding numerical value. For non-letter grades earned (P, NP, I, or if no grade was given), the function returns a value of -1. Once letter grades were converted, these new values were multiplied by the number of units for the student's corresponding course to calculate GPA Points. Any negative values were removed from the dataset.\n",
    "\n",
    "After GPA Points were determined, the following procedure was conducted for each analysis:\n",
    "   1. Define the null and alternate hypotheses\n",
    "   2. Use the grade_to_GPA function to convert letter grades to their corresponding numerical value\n",
    "   3. Clean the data to ensure students with no grade given and those who earned P, NP, or I are removed from the data\n",
    "   4. Calculate the observed test statistic from the experimental data\n",
    "   5. Simulate under the null hypothesis\n",
    "   6. Create a bar graph highlighting the difference in GPA Points between the two groups\n",
    "   \n",
    "#### *Methods*\n",
    "As stated above, the methodology for both analyses was generally the same.\n",
    "\n",
    "*Determining Whether Age Factors Into Academic Performance*\n",
    "\n",
    "The underlying question of this analysis was determining whether age had any effect on a student's academic performance or whether the observed difference in academic performance was a result of chance. The observed difference in academic performance (GPA Points) between 17 year olds and 16 year olds was approximately -0.43 (meaning 16 year olds technically outperformed 17 year olds). To test whether this difference is statistically significant, 1000 bootstrap samples were generated--from which 1000 differences in GPA Points were calculated. This distribution is shown in Figure 1.0 below. A red point below the distribution marks the observed difference in academic performance observed in our Summer 2020 cohort of students.\n",
    "\n",
    "Note: While the convention is to generate 10,000 bootstrap samples, given the large p-value, generating 1,000 bootstrap samples is sufficient to give us significant results.\n",
    "\n",
    "*Determining Whether Residency Factors Into Academic Performance*\n",
    "\n",
    "The underlying question of this analysis was determining whether residency (California students vs. non-California students) had any effect on a student's academic performance or whether the observed difference in academic performance was a result of chance. The observed difference in academic performance (GPA Points) between California students and Out-of-State/International students was approximately 1.92 (meaning California students performed higher than Out-of-State/International students). To test whether this difference is statistically significant, 1000 bootstrap samples were generated--from which 1000 differences in GPA Points were calculated. This distribution is shown in Figure 2.0 below. A red point below the distribution marks the observed difference in academic performance observed in our Summer 2020 cohort of students.\n",
    "\n",
    "Note: While the convention is to generate 10,000 bootstrap samples, given the incredibly-low p-value, generating 1,000 bootstrap samples is sufficient to give us significant results."
   ]
  },
  {
   "cell_type": "markdown",
   "metadata": {},
   "source": [
    "# Determining Whether Age Factors Into Academic Performance"
   ]
  },
  {
   "cell_type": "markdown",
   "metadata": {},
   "source": [
    " Null Hypothesis: There is no difference in GPA Points earned between 16 year olds and 17 years olds. Any difference is a result of chance.\n",
    " \n",
    " Alternate Hypothesis: 17 year olds earned higher GPA Points than 16 year olds.\n",
    " \n",
    " Test Statistic: Difference in average GPA Points of 17 year olds and 16 year olds (17 year old mean - 16 year old mean)"
   ]
  },
  {
   "cell_type": "code",
   "execution_count": 8,
   "metadata": {},
   "outputs": [
    {
     "name": "stdout",
     "output_type": "stream",
     "text": [
      "Observed Test Statistic: -0.436785560807909\n",
      "P-value: 0.193\n"
     ]
    },
    {
     "data": {
      "image/png": "[encoded data removed]",
      "text/plain": [
       "<Figure size 432x288 with 1 Axes>"
      ]
     },
     "metadata": {},
     "output_type": "display_data"
    }
   ],
   "source": [
    "# Cleaning the data\n",
    "age_grade_roster = roster.select('Age as of 6/21/20', 'Grade')\n",
    "gpa_points = age_grade_roster.with_column('Grade', age_grade_roster.apply(grade_to_GPA, 'Grade')).column(1) * roster.column('Unit Taken')\n",
    "age_gpa_roster = Table().with_columns('Age', roster.column('Age as of 6/21/20'), 'GPA Points', gpa_points).where('Age', are.between(16, 17.1)).where('GPA Points', are.above(-0.1))\n",
    "\n",
    "# Observed Test Statistic\n",
    "avg_obs_gpas = age_gpa_roster.group('Age', np.mean).column(1)\n",
    "observed_test_statistic = avg_obs_gpas.item(1) - avg_obs_gpas.item(0)\n",
    "\n",
    "# A/B Testing - simulating under the null hypothesis\n",
    "\n",
    "means = make_array()\n",
    "\n",
    "for i in np.arange(1000):\n",
    "    reshuffled = age_gpa_roster.sample().column(0)\n",
    "    reshuffled_table = age_gpa_roster.with_column('Age', reshuffled)\n",
    "    mean_table = reshuffled_table.group('Age', np.mean).column(1)\n",
    "    one_mean = mean_table.item(1) - mean_table.item(0)\n",
    "    means = np.append(means, one_mean)\n",
    "\n",
    "mean_table = Table().with_column('Difference in Means', means)\n",
    "mean_table.hist('Difference in Means')\n",
    "plots.scatter(observed_test_statistic, -0.01, color='red')\n",
    "P_value = np.sum(observed_test_statistic >= means) / len(means)\n",
    "print('Observed Test Statistic:', observed_test_statistic)\n",
    "print('P-value:', P_value)"
   ]
  },
  {
   "cell_type": "markdown",
   "metadata": {},
   "source": [
    "*Figure 1.0: Distribution of 1000 Test Statistics of Age and GPA Points*"
   ]
  },
  {
   "cell_type": "code",
   "execution_count": 9,
   "metadata": {},
   "outputs": [
    {
     "name": "stdout",
     "output_type": "stream",
     "text": [
      "16 year old GPA Points: 11.79832402234637\n",
      "17 year old GPA Points: 11.36153846153846\n",
      "P-value: 0.193\n"
     ]
    },
    {
     "data": {
      "image/png": "[encoded data removed]",
      "text/plain": [
       "<Figure size 432x288 with 1 Axes>"
      ]
     },
     "metadata": {},
     "output_type": "display_data"
    }
   ],
   "source": [
    "age_gpa_pivot = age_gpa_roster.group('Age', np.mean)\n",
    "age_gpa_pivot.barh('Age')\n",
    "print('16 year old GPA Points:', age_gpa_pivot.column(1).item(0))\n",
    "print('17 year old GPA Points:', age_gpa_pivot.column(1).item(1))\n",
    "print('P-value:', P_value)"
   ]
  },
  {
   "cell_type": "markdown",
   "metadata": {},
   "source": [
    "*Figure 1.1: GPA Point Means of 17 Year Olds and 16 Year Olds From 1000 Bootstrapped Samples*"
   ]
  },
  {
   "cell_type": "markdown",
   "metadata": {},
   "source": [
    "From this analysis, we can say that there is no difference between the GPA points (academic performance) of 16 year old students and 17 year old students. See the Conclusion section for a more in-depth analysis."
   ]
  },
  {
   "cell_type": "markdown",
   "metadata": {},
   "source": [
    "# Determining Whether Residency Factors Into Academic Performance"
   ]
  },
  {
   "cell_type": "markdown",
   "metadata": {},
   "source": [
    "Null Hypothesis: There is no difference in academic performance between California Students and Out-of-State/International Students. Any difference is the result of mere chance.\n",
    "\n",
    "Alternate Hypothesis: California students have better academic performance.\n",
    "\n",
    "Test Statistic: Difference in means between mean GPA Points of Californians and Out-of-State/International students."
   ]
  },
  {
   "cell_type": "code",
   "execution_count": 10,
   "metadata": {},
   "outputs": [
    {
     "name": "stdout",
     "output_type": "stream",
     "text": [
      "Observed Test Statistic: 1.916666666666666\n",
      "P-value: 0.001\n"
     ]
    },
    {
     "data": {
      "image/png": "[encoded data removed]",
      "text/plain": [
       "<Figure size 432x288 with 1 Axes>"
      ]
     },
     "metadata": {},
     "output_type": "display_data"
    }
   ],
   "source": [
    "# Cleaning the Data\n",
    "region_units_grade_roster = roster.select('Region/State of Permanent Address', 'Unit Taken', 'Grade').relabel('Region/State of Permanent Address', 'CA?')\n",
    "gpa = region_units_grade_roster.apply(grade_to_GPA, 'Grade')\n",
    "region_units_gpa_roster = region_units_grade_roster.with_column('Grade', gpa).relabel('Grade', 'GPA')\n",
    "gpa_points = region_units_gpa_roster.column(1) * region_units_gpa_roster.column(2)\n",
    "region_gpa_points = region_units_gpa_roster.with_column('GPA Points', gpa_points).select('CA?', 'GPA Points')\n",
    "ca = region_gpa_points.column(0) == 'CA'\n",
    "cali_gpa = region_gpa_points.with_column('CA?', ca).where('GPA Points', are.above(-0.1))\n",
    "\n",
    "# Observed Test Statistic\n",
    "gpa_points_arr = cali_gpa.group('CA?', np.mean).column(1)\n",
    "observed_test_stat = gpa_points_arr.item(1) - gpa_points_arr.item(0)\n",
    "\n",
    "# A/B Testing - simulating under the null hypothesis\n",
    "\n",
    "stats = make_array()\n",
    "\n",
    "for i in np.arange(1000):\n",
    "    shuffled_labels = cali_gpa.sample().column(0)\n",
    "    shuffled_table = cali_gpa.with_column('CA?', shuffled_labels)\n",
    "    stats_table = shuffled_table.group('CA?', np.mean).column(1)\n",
    "    one_stat = stats_table.item(1) - stats_table.item(0)\n",
    "    stats = np.append(stats, one_stat)\n",
    "\n",
    "stats_table = Table().with_column('Difference in Means', stats)\n",
    "\n",
    "stats_table.hist('Difference in Means')\n",
    "plots.scatter(observed_test_stat, -0.01, color='red')\n",
    "p_value = np.sum(observed_test_stat <= stats) / len(stats)\n",
    "print('Observed Test Statistic:', observed_test_stat)\n",
    "print('P-value:', p_value)"
   ]
  },
  {
   "cell_type": "markdown",
   "metadata": {},
   "source": [
    "*Figure 2.0: Distribution of 1000 Test Statistics of Residency and GPA Points*"
   ]
  },
  {
   "cell_type": "code",
   "execution_count": 11,
   "metadata": {},
   "outputs": [
    {
     "name": "stdout",
     "output_type": "stream",
     "text": [
      "International/Out-of-State GPA Points: 9.950000000000001\n",
      "In-State GPA Points: 11.866666666666667\n",
      "P-value: 0.001\n"
     ]
    },
    {
     "data": {
      "image/png": "[encoded data removed]",
      "text/plain": [
       "<Figure size 432x288 with 1 Axes>"
      ]
     },
     "metadata": {},
     "output_type": "display_data"
    }
   ],
   "source": [
    "cali_gpa_pivot = cali_gpa.group('CA?', np.mean).relabel('CA?', 'In-State?')\n",
    "cali_gpa_pivot.barh('In-State?')\n",
    "print('International/Out-of-State GPA Points:', cali_gpa_pivot.column(1).item(0))\n",
    "print('In-State GPA Points:', cali_gpa_pivot.column(1).item(1))\n",
    "print('P-value:', p_value)"
   ]
  },
  {
   "cell_type": "markdown",
   "metadata": {},
   "source": [
    "*Figure 2.1: GPA Point Means of In-State Students and Out-of-State/International Students From 1000 Bootstrapped Samples*"
   ]
  },
  {
   "cell_type": "markdown",
   "metadata": {},
   "source": [
    "From this analysis, we can say that there is a statistically-significant difference in academic performance between California-based (in-state) students and international/out-of-state students. It is also worth noting that the p-value is incredibly low which indicates either that the correlation between in-state residency and academic performance is incredibly high or that there is some other systemic error with the analysis. The next section takes a closer look at the data to see if there are any potential errors that could be leading to such a low p-value. See the Conclusion section for a more in-depth analysis."
   ]
  },
  {
   "cell_type": "markdown",
   "metadata": {},
   "source": [
    "#### *Data Deep-Dive*"
   ]
  },
  {
   "cell_type": "markdown",
   "metadata": {},
   "source": [
    "*How many international/out-of-state students earned a letter grade (i.e. A-F)?*\n",
    "\n",
    "It is possible that there were too few international/out-of-state students who earned a letter grade in their respective courses to yield a statistically signicant value. Below is a breakdown of the number of students both in and out of California and which grade (letter grade vs. P, NP, or I) they earned:"
   ]
  },
  {
   "cell_type": "code",
   "execution_count": 12,
   "metadata": {},
   "outputs": [
    {
     "name": "stderr",
     "output_type": "stream",
     "text": [
      "C:\\Users\\caleb\\anaconda3\\lib\\site-packages\\datascience\\tables.py:920: VisibleDeprecationWarning: Creating an ndarray from ragged nested sequences (which is a list-or-tuple of lists-or-tuples-or ndarrays with different lengths or shapes) is deprecated. If you meant to do this, you must specify 'dtype=object' when creating the ndarray\n",
      "  values = np.array(tuple(values))\n"
     ]
    },
    {
     "data": {
      "text/html": [
       "<table border=\"1\" class=\"dataframe\">\n",
       "    <thead>\n",
       "        <tr>\n",
       "            <th>CA?</th> <th>Letter Grade?</th> <th>count</th>\n",
       "        </tr>\n",
       "    </thead>\n",
       "    <tbody>\n",
       "        <tr>\n",
       "            <td>False</td> <td>False        </td> <td>36   </td>\n",
       "        </tr>\n",
       "        <tr>\n",
       "            <td>False</td> <td>True         </td> <td>106  </td>\n",
       "        </tr>\n",
       "        <tr>\n",
       "            <td>True </td> <td>False        </td> <td>114  </td>\n",
       "        </tr>\n",
       "        <tr>\n",
       "            <td>True </td> <td>True         </td> <td>318  </td>\n",
       "        </tr>\n",
       "    </tbody>\n",
       "</table>"
      ],
      "text/plain": [
       "CA?   | Letter Grade? | count\n",
       "False | False         | 36\n",
       "False | True          | 106\n",
       "True  | False         | 114\n",
       "True  | True          | 318"
      ]
     },
     "execution_count": 12,
     "metadata": {},
     "output_type": "execute_result"
    }
   ],
   "source": [
    "bool_letter_grade = region_gpa_points.with_column('CA?', ca).column(1) >= 0\n",
    "region_gpa_points.with_column('CA?', ca).with_column('GPA Points', bool_letter_grade).relabel('GPA Points', 'Letter Grade?').group(['CA?', 'Letter Grade?'])"
   ]
  },
  {
   "cell_type": "markdown",
   "metadata": {},
   "source": [
    "From the above chart, we see that there are 106 out-of-state/international students who earned a letter grade (A-F) compared with 318 in-state students who earned a letter grade. This should be a sufficient sample size to yield statistically-significant results."
   ]
  },
  {
   "cell_type": "markdown",
   "metadata": {},
   "source": [
    "# Conclusion"
   ]
  },
  {
   "cell_type": "markdown",
   "metadata": {},
   "source": [
    "This analysis focused primarily on disparities in academic performance (GPA Points) between two populations. It was found to be no statistically-significant relationship between a student's age and their academic performance but that there was a statistically significant relationship between California residency and academic performance--with California students performing higher than international/out-of-state students.\n",
    "\n",
    "#### *Age and Academic Performance*\n",
    "It does seem, intially, counter-intuitive that age has no bearing of academic performance; however, the data is quite clear that there is no significant relationship. In fact, the experimental data shows that 16 year old students outperformed 17 year old students (although the difference is statistically-marginal). Considering that this cycle was the first Pre-College Scholars Program cycle conducted completely virtually, it is possible that the greater academic experience of 17 year old students was counterbalanced or outweighed by the virtual nature of the courses. It will be interesting to conduct a similar analysis of students in the Summer 2021 cycle and beyond to see whether this trend (or rather the lack of any trend) continues both in a second cycle of virtual courses (where we might expect 17 year old students to outperform 16 year old students) and when courses transition back to primarily in-person instruction.\n",
    "\n",
    "#### *California Residency and Academic Performance*\n",
    "While this result may not be particularly surprising, what is surprising is the strength of the relationship between residency in California and academic performance. Considering that students must apply to the program, there are set standards for each student within the program--ruling out any possibility that California students are more prepared from the outset of the program; what seems plausible is the effect of the global pandemic. While synchronous course attendance may not have been required for most lectures, from my own experience taking both asynchronous and synchronous courses, I've found watching pre-recorded lectures is not as engaging as attending synchronously. Also important to consider is that students are generally required to attend lab and discussion sections synchronously. Differences in time zones (particularly for international students) may have caused international/out-of-state students to disrupt their normal schedules to attend section synchronously. However, it is critical to consider that these two factors are not necessarily supported empirically (at least not within this particular group of students); by conducting a similar analysis of students from past and future cycles (where instruction was or will be primarily conducted in-person) and comparing the results to the Summer 2020 and Summer 2021 cycles (where instruction was primarily virtual), we will be able to better determine whether the observed difference in academic performance from the Summer 2020 cycle is an anomoly stemming from the nature of virtual instruction or if there is a significant difference in academic performance between these two populations.\n",
    "\n",
    "#### *Potential Policy Implications*\n",
    "Since there was no statistically-significant difference in academic performance between 16 year old students and 17 year old students, there are no potential policy implications to note. It is also worth noting that the median letter grade of all students in the program this cycle was an A-; thus, it seems as if the criteria used to determine admission to the program are successful in admitting high-achieving, well-prepared high school students.\n",
    "\n",
    "More pressing is the difference in academic performance between California students and international/out-of-state students. Although it is possible that this difference stems from complications of virtual instruction, it would be a disservice to out international/out-of-state student population to wait to determine before taking steps to address this disparity--especially when relatively simple policies are possible. One such possibility is diversifying our Ambassador pool. This cycle (Summer 2021), of a team of eight Ambassadors, all of them are from California. While this is not necessarily a criticism of our Ambassador team--as our current team has been absolutely exceptional--it is possible that international/out-of-state students could stand to gain from mentorship opportunities and guidance from an international/out-of-state Ambassador who has successfully navigated the program in the past. Another possiblitilty, although more involved and more effective in an in-person environment, is to create cohorts or groups of students that meet regularly with an Ambassador or staff member throughout the program to help guide them throughout the program.\n",
    "\n",
    "#### *Future Analyses and Final Reflections*\n",
    "In the future, it would be interesting to once again conduct an analysis of the effect of both in-state residency on academic performance and age on academic performance to see whether the patterns observed in the Summer 2020 continue in a second cycle of virtual instruction and beyond.\n",
    "\n",
    "Similarly, it would also prove beneficial to the program to conduct other analyses of roster data (as well as other datasets) to highlight potential disparities and improve students' success. Using the existing Summer 2020 Roster Data, it would also be possible to conduct analyses of academic performance by region (NorCal vs. SoCal vs. Central Valley), type of high school (public vs. private), academic interest (STEM vs. Humanities vs. Social Sciences), geographic background (urban vs. suburban vs. rural), etc.\n",
    "\n",
    "Beyond analyses of academic performance, statistical analyses can prove to be incredibly valuable to the program. While these analyses and further analyses of roster data focus on disparities in academic performance, other analyses (further quantitaive analyses mixed with analyses of program evaluation surveys and first-hand accounts from Ambassadors/students) can help gauge the effectiveness of different programs/policies (e.g. the mentorship program) that may be implemented in the future or even track the progress/effectiveness of outreach efforts to specific populations. Perhaps the most important takeaway from all of this is that these analyses along with the others mentioned within this section have been and could all be conducted by someone who has taken Data 8 (the introductory data science course on campus). While the Pre-College Program is still very much in a development stage, if the team feels that this sort of analyses/evaluations of pre-existing programs, policies, and strategies would be an important aspect to focus on this coming cycle, I would highly recommend the program hire a student assistant with a social sciences/data science background."
   ]
  }
 ],
 "metadata": {
  "kernelspec": {
   "display_name": "Python 3",
   "language": "python",
   "name": "python3"
  },
  "language_info": {
   "codemirror_mode": {
    "name": "ipython",
    "version": 3
   },
   "file_extension": ".py",
   "mimetype": "text/x-python",
   "name": "python",
   "nbconvert_exporter": "python",
   "pygments_lexer": "ipython3",
   "version": "3.8.5"
  }
 },
 "nbformat": 4,
 "nbformat_minor": 4
}
